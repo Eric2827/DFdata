{
 "cells": [
  {
   "cell_type": "markdown",
   "metadata": {},
   "source": [
    "## 安装sphinx"
   ]
  },
  {
   "cell_type": "code",
   "execution_count": 4,
   "metadata": {
    "collapsed": true,
    "jupyter": {
     "outputs_hidden": true
    }
   },
   "outputs": [
    {
     "name": "stdout",
     "output_type": "stream",
     "text": [
      "Collecting sphinx\n",
      "  Downloading Sphinx-2.4.4-py3-none-any.whl (2.7 MB)\n",
      "\u001b[K     |████████████████████████████████| 2.7 MB 183 kB/s eta 0:00:01\n",
      "\u001b[?25hCollecting sphinxcontrib-qthelp\n",
      "  Downloading sphinxcontrib_qthelp-1.0.3-py2.py3-none-any.whl (90 kB)\n",
      "\u001b[K     |████████████████████████████████| 90 kB 237 kB/s eta 0:00:011\n",
      "\u001b[?25hCollecting sphinxcontrib-serializinghtml\n",
      "  Downloading sphinxcontrib_serializinghtml-1.1.4-py2.py3-none-any.whl (89 kB)\n",
      "\u001b[K     |████████████████████████████████| 89 kB 194 kB/s eta 0:00:011\n",
      "\u001b[?25hRequirement already satisfied, skipping upgrade: requests>=2.5.0 in /opt/conda/lib/python3.7/site-packages (from sphinx) (2.23.0)\n",
      "Collecting snowballstemmer>=1.1\n",
      "  Downloading snowballstemmer-2.0.0-py2.py3-none-any.whl (97 kB)\n",
      "\u001b[K     |████████████████████████████████| 97 kB 242 kB/s eta 0:00:011\n",
      "\u001b[?25hCollecting docutils>=0.12\n",
      "  Downloading docutils-0.16-py2.py3-none-any.whl (548 kB)\n",
      "\u001b[K     |████████████████████████████████| 548 kB 92 kB/s eta 0:00:012\n",
      "\u001b[?25hRequirement already satisfied, skipping upgrade: setuptools in /opt/conda/lib/python3.7/site-packages (from sphinx) (45.2.0.post20200209)\n",
      "Requirement already satisfied, skipping upgrade: packaging in /opt/conda/lib/python3.7/site-packages (from sphinx) (20.1)\n",
      "Requirement already satisfied, skipping upgrade: Pygments>=2.0 in /opt/conda/lib/python3.7/site-packages (from sphinx) (2.5.2)\n",
      "Collecting sphinxcontrib-applehelp\n",
      "  Downloading sphinxcontrib_applehelp-1.0.2-py2.py3-none-any.whl (121 kB)\n",
      "\u001b[K     |████████████████████████████████| 121 kB 117 kB/s eta 0:00:01\n",
      "\u001b[?25hCollecting alabaster<0.8,>=0.7\n",
      "  Downloading alabaster-0.7.12-py2.py3-none-any.whl (14 kB)\n",
      "Requirement already satisfied, skipping upgrade: Jinja2>=2.3 in /opt/conda/lib/python3.7/site-packages (from sphinx) (2.11.1)\n",
      "Collecting sphinxcontrib-htmlhelp\n",
      "  Downloading sphinxcontrib_htmlhelp-1.0.3-py2.py3-none-any.whl (96 kB)\n",
      "\u001b[K     |████████████████████████████████| 96 kB 149 kB/s eta 0:00:011\n",
      "\u001b[?25hRequirement already satisfied, skipping upgrade: babel!=2.0,>=1.3 in /opt/conda/lib/python3.7/site-packages (from sphinx) (2.8.0)\n",
      "Collecting imagesize\n",
      "  Downloading imagesize-1.2.0-py2.py3-none-any.whl (4.8 kB)\n",
      "Collecting sphinxcontrib-jsmath\n",
      "  Downloading sphinxcontrib_jsmath-1.0.1-py2.py3-none-any.whl (5.1 kB)\n",
      "Collecting sphinxcontrib-devhelp\n",
      "  Downloading sphinxcontrib_devhelp-1.0.2-py2.py3-none-any.whl (84 kB)\n",
      "\u001b[K     |████████████████████████████████| 84 kB 137 kB/s eta 0:00:011\n",
      "\u001b[?25hRequirement already satisfied, skipping upgrade: certifi>=2017.4.17 in /opt/conda/lib/python3.7/site-packages (from requests>=2.5.0->sphinx) (2019.11.28)\n",
      "Requirement already satisfied, skipping upgrade: urllib3!=1.25.0,!=1.25.1,<1.26,>=1.21.1 in /opt/conda/lib/python3.7/site-packages (from requests>=2.5.0->sphinx) (1.25.7)\n",
      "Requirement already satisfied, skipping upgrade: idna<3,>=2.5 in /opt/conda/lib/python3.7/site-packages (from requests>=2.5.0->sphinx) (2.9)\n",
      "Requirement already satisfied, skipping upgrade: chardet<4,>=3.0.2 in /opt/conda/lib/python3.7/site-packages (from requests>=2.5.0->sphinx) (3.0.4)\n",
      "Requirement already satisfied, skipping upgrade: six in /opt/conda/lib/python3.7/site-packages (from packaging->sphinx) (1.13.0)\n",
      "Requirement already satisfied, skipping upgrade: pyparsing>=2.0.2 in /opt/conda/lib/python3.7/site-packages (from packaging->sphinx) (2.4.6)\n",
      "Requirement already satisfied, skipping upgrade: MarkupSafe>=0.23 in /opt/conda/lib/python3.7/site-packages (from Jinja2>=2.3->sphinx) (1.1.1)\n",
      "Requirement already satisfied, skipping upgrade: pytz>=2015.7 in /opt/conda/lib/python3.7/site-packages (from babel!=2.0,>=1.3->sphinx) (2019.3)\n",
      "Installing collected packages: sphinxcontrib-qthelp, sphinxcontrib-serializinghtml, snowballstemmer, docutils, sphinxcontrib-applehelp, alabaster, sphinxcontrib-htmlhelp, imagesize, sphinxcontrib-jsmath, sphinxcontrib-devhelp, sphinx\n",
      "Successfully installed alabaster-0.7.12 docutils-0.16 imagesize-1.2.0 snowballstemmer-2.0.0 sphinx-2.4.4 sphinxcontrib-applehelp-1.0.2 sphinxcontrib-devhelp-1.0.2 sphinxcontrib-htmlhelp-1.0.3 sphinxcontrib-jsmath-1.0.1 sphinxcontrib-qthelp-1.0.3 sphinxcontrib-serializinghtml-1.1.4\n"
     ]
    }
   ],
   "source": [
    "!pip install -U sphinx"
   ]
  },
  {
   "cell_type": "markdown",
   "metadata": {},
   "source": [
    "## 编译生成网页"
   ]
  },
  {
   "cell_type": "code",
   "execution_count": 31,
   "metadata": {},
   "outputs": [
    {
     "name": "stdout",
     "output_type": "stream",
     "text": [
      "\u001b[01mRunning Sphinx v2.4.4\u001b[39;49;00m\n",
      "\u001b[01mloading translations [zh_CN]... \u001b[39;49;00mdone\n",
      "\u001b[01mloading pickled environment... \u001b[39;49;00mdone\n",
      "\u001b[01mbuilding [mo]: \u001b[39;49;00mtargets for 0 po files that are out of date\n",
      "\u001b[01mbuilding [html]: \u001b[39;49;00mtargets for 3 source files that are out of date\n",
      "\u001b[01mupdating environment: \u001b[39;49;00m0 added, 4 changed, 0 removed\n",
      "\u001b[01mreading sources... \u001b[39;49;00m[100%] \u001b[35msource/start/install\u001b[39;49;00m                                  \n",
      "\u001b[31;01mWARNING: autodoc: failed to import module 'run'; the following exception was raised:\n",
      "No module named 'run'\u001b[39;49;00m\n",
      "\u001b[31;01m/home/jovyan/work/DFdata/docs/source/index.rst:9: WARNING: toctree contains reference to nonexisting document 'source/data/index'\u001b[39;49;00m\n",
      "\u001b[31;01m/home/jovyan/work/DFdata/docs/source/index.rst:9: WARNING: toctree contains reference to nonexisting document 'source/reference/index'\u001b[39;49;00m\n",
      "\u001b[31;01m/home/jovyan/work/DFdata/docs/source/index.rst:9: WARNING: toctree contains reference to nonexisting document 'source/development/index'\u001b[39;49;00m\n",
      "\u001b[31;01mWARNING: autodoc: failed to import module 'db_info' from module 'dfdata'; the following exception was raised:\n",
      "No module named 'dfdata'\u001b[39;49;00m\n",
      "\u001b[01mlooking for now-outdated files... \u001b[39;49;00mnone found\n",
      "\u001b[01mpickling environment... \u001b[39;49;00mdone\n",
      "\u001b[01mchecking consistency... \u001b[39;49;00m\u001b[31;01m/home/jovyan/work/DFdata/docs/source/.ipynb_checkpoints/index-checkpoint.rst: WARNING: document isn't included in any toctree\u001b[39;49;00m\n",
      "\u001b[31;01m/home/jovyan/work/DFdata/docs/source/start/.ipynb_checkpoints/index-checkpoint.rst: WARNING: document isn't included in any toctree\u001b[39;49;00m\n",
      "\u001b[31;01m/home/jovyan/work/DFdata/docs/source/start/.ipynb_checkpoints/install-checkpoint.rst: WARNING: document isn't included in any toctree\u001b[39;49;00m\n",
      "done\n",
      "\u001b[01mpreparing documents... \u001b[39;49;00mdone\n",
      "\u001b[01mwriting output... \u001b[39;49;00m[100%] \u001b[32msource/start/install\u001b[39;49;00m                                   \n",
      "\u001b[01mgenerating indices... \u001b[39;49;00m genindexdone\n",
      "\u001b[01mwriting additional pages... \u001b[39;49;00m searchdone\n",
      "\u001b[01mcopying static files... ... \u001b[39;49;00mdone\n",
      "\u001b[01mcopying extra files... \u001b[39;49;00mdone\n",
      "\u001b[01mdumping search index in Chinese (code: zh)... \u001b[39;49;00mdone\n",
      "\u001b[01mdumping object inventory... \u001b[39;49;00mdone\n",
      "\u001b[01mbuild succeeded, 8 warnings.\u001b[39;49;00m\n",
      "\n",
      "The HTML pages are in _build/html.\n"
     ]
    }
   ],
   "source": [
    "!make html"
   ]
  },
  {
   "cell_type": "code",
   "execution_count": 21,
   "metadata": {},
   "outputs": [
    {
     "ename": "ModuleNotFoundError",
     "evalue": "No module named 'selenium'",
     "output_type": "error",
     "traceback": [
      "\u001b[0;31m---------------------------------------------------------------------------\u001b[0m",
      "\u001b[0;31mModuleNotFoundError\u001b[0m                       Traceback (most recent call last)",
      "\u001b[0;32m<ipython-input-21-b0e9b81e9240>\u001b[0m in \u001b[0;36m<module>\u001b[0;34m\u001b[0m\n\u001b[0;32m----> 1\u001b[0;31m \u001b[0;32mimport\u001b[0m \u001b[0mselenium\u001b[0m \u001b[0;32mas\u001b[0m \u001b[0mse\u001b[0m\u001b[0;34m\u001b[0m\u001b[0;34m\u001b[0m\u001b[0m\n\u001b[0m",
      "\u001b[0;31mModuleNotFoundError\u001b[0m: No module named 'selenium'"
     ]
    }
   ],
   "source": [
    "import selenium as se"
   ]
  },
  {
   "cell_type": "code",
   "execution_count": 26,
   "metadata": {},
   "outputs": [
    {
     "name": "stdout",
     "output_type": "stream",
     "text": [
      "total 4\n",
      "-rw-r--r-- 1 jovyan users 2882 Mar 27 08:37 test.html\n"
     ]
    }
   ],
   "source": [
    "!ls _build/html/source -l"
   ]
  },
  {
   "cell_type": "code",
   "execution_count": 27,
   "metadata": {},
   "outputs": [
    {
     "name": "stdout",
     "output_type": "stream",
     "text": [
      "total 36\n",
      "-rw-r--r-- 1 jovyan root  2507 Mar 27 08:37 genindex.html\n",
      "-rw-r--r-- 1 jovyan root  4173 Mar 27 08:37 index.html\n",
      "-rw-r--r-- 1 jovyan root   341 Mar 27 08:37 objects.inv\n",
      "-rw-r--r-- 1 jovyan root  2892 Mar 27 08:37 search.html\n",
      "-rw-r--r-- 1 jovyan users  855 Mar 27 08:37 searchindex.js\n",
      "drwxr-xr-x 3 jovyan users 4096 Mar 27 08:37 source\n",
      "drwxr-xr-x 4 jovyan root  4096 Mar 27 08:15 _sources\n",
      "drwxr-xr-x 2 jovyan root  4096 Mar 25 08:05 _static\n"
     ]
    }
   ],
   "source": [
    "!ls _build/html -l"
   ]
  },
  {
   "cell_type": "code",
   "execution_count": null,
   "metadata": {},
   "outputs": [],
   "source": []
  }
 ],
 "metadata": {
  "kernelspec": {
   "display_name": "Python 3",
   "language": "python",
   "name": "python3"
  },
  "language_info": {
   "codemirror_mode": {
    "name": "ipython",
    "version": 3
   },
   "file_extension": ".py",
   "mimetype": "text/x-python",
   "name": "python",
   "nbconvert_exporter": "python",
   "pygments_lexer": "ipython3",
   "version": "3.7.6"
  }
 },
 "nbformat": 4,
 "nbformat_minor": 4
}
