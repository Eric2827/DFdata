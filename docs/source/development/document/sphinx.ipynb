{
 "cells": [
  {
   "cell_type": "markdown",
   "metadata": {},
   "source": [
    "# Sphinx教程"
   ]
  },
  {
   "cell_type": "markdown",
   "metadata": {},
   "source": [
    "## 安装\n",
    "\n",
    "### 使用pip安装\n",
    "\n",
    "可以使用pip安装，如下:\n",
    "\n",
    "`pip install -U sphinx`\n",
    "    \n",
    "### 使用docker安装\n",
    "\n",
    "Sphinx的官方docker镜像有两个：\n",
    "\n",
    "* sphinxdoc/sphinx，常用的Sphinx镜像。\n",
    "* sphinxdoc/sphinx-latexpdf，比较大，主要使用LaTeX构建PDF的Sphinx镜像。\n",
    "\n",
    "先安装好docker，然后直接使用docker run命令自动下载镜像并启动容器。如下::\n",
    "\n",
    "```\n",
    "#从sphinxdoc/sphinx镜像启动一个名称为sphinx的容器并后台运行，挂载当前目录下的project/docs目录到容器docs目录。\n",
    "docker run -itd -v $PWD/project/docs:/docs --name sphinx sphinxdoc/sphinx  /bin/bash\n",
    "#进入sphinx容器\n",
    "docker exec -it sphinx /bin/bash\n",
    "#运行sphinx-quickstartx脚本生成Sphinx默认模板，\n",
    "sphinx-quickstart\n",
    "#修改首页index.rst等\n",
    "#，仅需运行make html而不需要使用sphinx-build生成。\n",
    "make html\n",
    "```"
   ]
  },
  {
   "cell_type": "markdown",
   "metadata": {},
   "source": [
    "## 入门"
   ]
  },
  {
   "cell_type": "markdown",
   "metadata": {},
   "source": [
    "## 扩展\n",
    "### 常用扩展\n",
    "#### autodoc\n",
    "autodoc扩展能够提取源代码中的文档字符串(DocStrings)生成文档，文档字符串需要按reStructuredText格式编写，可以使用所有常用的Sphinx标记。一般搭配napoleon扩展一起使用。\n",
    "\n",
    "```\n",
    "在文档中先设定当前模块\n",
    ".. currentmodule:: dfdata\n",
    "autodoc的autofunction可以导入函数文档字符串，如：\n",
    ".. autofunction:: save_futures_contract\n",
    "```\n",
    "\n",
    "详细信息阅读：\n",
    "* https://www.sphinx-doc.org/en/master/usage/extensions/autodoc.html\n",
    "* https://www.sphinx.org.cn/usage/extensions/autodoc.html"
   ]
  }
 ],
 "metadata": {
  "kernelspec": {
   "display_name": "Python 3",
   "language": "python",
   "name": "python3"
  },
  "language_info": {
   "codemirror_mode": {
    "name": "ipython",
    "version": 3
   },
   "file_extension": ".py",
   "mimetype": "text/x-python",
   "name": "python",
   "nbconvert_exporter": "python",
   "pygments_lexer": "ipython3",
   "version": "3.7.6"
  }
 },
 "nbformat": 4,
 "nbformat_minor": 4
}
