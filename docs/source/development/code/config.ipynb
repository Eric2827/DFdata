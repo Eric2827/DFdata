{
 "cells": [
  {
   "cell_type": "markdown",
   "metadata": {},
   "source": [
    "# 配置文件\n",
    "配置文件（configuration file）是一种计算机文件，可以为一些计算机程序配置参数和初始设置。"
   ]
  },
  {
   "cell_type": "markdown",
   "metadata": {},
   "source": [
    "## 常用配置文件格式\n",
    "\n"
   ]
  },
  {
   "cell_type": "markdown",
   "metadata": {},
   "source": [
    "## ConfigParser模块读写配置\n",
    "[ConfigParser模块](https://docs.python.org/zh-cn/3/library/configparser.html)是Python的内置模块，用于配置文件解析。配置文件结构与 Microsoft Windows INI 文件的类似。\n",
    "\n",
    "配置文件由节（section），和每个节下面的键值对组成。一个简单的配置文件如下：\n",
    "    \n",
    "    ; 注释部分可用;号开头\n",
    "    # 也可以用#号开头\n",
    "    \n",
    "    [main]\n",
    "    download_path = ~/dfdata/\n",
    "    log = normal\n",
    "    start_date = 2010-01-01\n",
    "    sleep_time = 0.5\n",
    "\n",
    "    [tushare]\n",
    "    start_date = 2005-01-01\n",
    "    sleep_time = 0.5\n",
    "    \n",
    "    [section]\n",
    "    key = value\n",
    "    key2 : value2   #可以使用=或:来分隔键与值。\n",
    "    \n",
    "### 读取\n",
    "\n",
    "\n",
    "\n"
   ]
  },
  {
   "cell_type": "markdown",
   "metadata": {},
   "source": [
    "## 参考文献\n",
    "\n",
    "* [维基百科：配置文件](https://zh.wikipedia.org/zh-hans/配置文件)\n",
    "* [鸟窝：常用配置文件格式](https://colobu.com/2017/08/31/configuration-file-format/)\n",
    "* [PHP自学网：python ConfigParser模块读写配置文件](https://zixuephp.net/article-431.html)"
   ]
  }
 ],
 "metadata": {
  "kernelspec": {
   "display_name": "Python 3",
   "language": "python",
   "name": "python3"
  },
  "language_info": {
   "codemirror_mode": {
    "name": "ipython",
    "version": 3
   },
   "file_extension": ".py",
   "mimetype": "text/x-python",
   "name": "python",
   "nbconvert_exporter": "python",
   "pygments_lexer": "ipython3",
   "version": "3.7.6"
  }
 },
 "nbformat": 4,
 "nbformat_minor": 4
}
