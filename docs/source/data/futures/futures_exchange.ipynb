{
 "cells": [
  {
   "cell_type": "markdown",
   "metadata": {},
   "source": [
    "# 期货交易所"
   ]
  },
  {
   "cell_type": "markdown",
   "metadata": {},
   "source": [
    "期货交易所，是买卖期货合约的场所，是期货市场的核心。它是一种非营利机构，但是它的非营利性仅指交易所本身不进行交易活动，不以盈利为目的不等于不讲利益核算。在这个意义上，交易所还是一个财务独立的营利组织，它在为交易者提供一个公开、公平、公正的交易场所和有效监督服务基础上实现合理的经济利益，包括会员会费收入、交易手续费收入、信息服务收入及其它收入。它所制定的一套制度规则为整个期货市场提供了一种自我管理机制，使得期货交易的“公开、公平、公正”原则得以实现。"
   ]
  },
  {
   "cell_type": "code",
   "execution_count": null,
   "metadata": {},
   "outputs": [],
   "source": []
  }
 ],
 "metadata": {
  "kernelspec": {
   "display_name": "Python 3",
   "language": "python",
   "name": "python3"
  },
  "language_info": {
   "codemirror_mode": {
    "name": "ipython",
    "version": 3
   },
   "file_extension": ".py",
   "mimetype": "text/x-python",
   "name": "python",
   "nbconvert_exporter": "python",
   "pygments_lexer": "ipython3",
   "version": "3.7.6"
  }
 },
 "nbformat": 4,
 "nbformat_minor": 4
}
